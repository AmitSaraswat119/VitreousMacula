{
 "cells": [
  {
   "cell_type": "code",
   "execution_count": 94,
   "metadata": {},
   "outputs": [
    {
     "name": "stdout",
     "output_type": "stream",
     "text": [
      "3.6.8\n"
     ]
    }
   ],
   "source": [
    "# conda install python \n",
    "import numpy as np\n",
    "import pandas as pd\n",
    "# import matplotlib as plt\n",
    "from platform import python_version\n",
    "\n",
    "print(python_version())"
   ]
  },
  {
   "cell_type": "code",
   "execution_count": 95,
   "metadata": {},
   "outputs": [],
   "source": [
    "data=pd.read_excel(\"VM.xlsx\")\n",
    "pd.set_option('display.max_rows', 500)\n",
    "pd.set_option('display.max_columns', 500)\n",
    "pd.set_option('display.width', 1000)"
   ]
  },
  {
   "cell_type": "code",
   "execution_count": 96,
   "metadata": {},
   "outputs": [],
   "source": [
    "data[\"Distance Between Eye and Normal Reading Sight?\"].fillna(20, inplace = True)\n",
    "data[\"Distance Between Eye and near point?\"].fillna(45, inplace=True)\n",
    "rd=data\n",
    "ld=data"
   ]
  },
  {
   "cell_type": "code",
   "execution_count": 97,
   "metadata": {},
   "outputs": [],
   "source": [
    "rd=rd.drop(['Timestamp','Occupation','Colour Vision(Left)?','Spokes (Left)','No. of Lines Of Readable Text Distance(Left)','No. of Lines Of Readable Text Short (Left)'],axis=1)"
   ]
  },
  {
   "cell_type": "code",
   "execution_count": 98,
   "metadata": {},
   "outputs": [],
   "source": [
    "rd.to_excel(r'right_eye.xlsx')"
   ]
  },
  {
   "cell_type": "code",
   "execution_count": 99,
   "metadata": {},
   "outputs": [],
   "source": [
    "ld=ld.drop(['Timestamp','Colour Vision(Right)?','Spokes (Right)','No. of Lines Of Readable Text Distance(Right)','No. of Lines Of Readable Text Short (Right)','Occupation'],axis=1)"
   ]
  },
  {
   "cell_type": "code",
   "execution_count": 100,
   "metadata": {},
   "outputs": [],
   "source": [
    "ld.to_excel(r'left_eye.xlsx')"
   ]
  },
  {
   "cell_type": "markdown",
   "metadata": {},
   "source": [
    "# Left Eye Side"
   ]
  },
  {
   "cell_type": "code",
   "execution_count": 101,
   "metadata": {
    "scrolled": true
   },
   "outputs": [],
   "source": [
    "ld[\"Colour Vision(Left)?\"].fillna(\"Both\", inplace = True) \n",
    "ld=ld.replace(to_replace=['No','Yes','no', 'yes','Female','Male','female','male'], value=[0,1,0,1,1,0,1,0])"
   ]
  },
  {
   "cell_type": "code",
   "execution_count": 102,
   "metadata": {},
   "outputs": [],
   "source": [
    "# ld['No. of Lines Of Readable Text Distance(Left)'] = ld['No. of Lines Of Readable Text Distance(Left)'].replace(['6/60','6/36','6/24','6/18','6/12','6/9','6/6'],[1,2,3,4,5,6,7])\n",
    "ld[\"No. of Lines Of Readable Text Distance(Left)\"].fillna(7, inplace = True)\n",
    "# ld['No. of Lines Of Readable Text Short (Left)'] = ld['No. of Lines Of Readable Text Short (Left)'].replace(['N/6','N/9','N/12','N/18','N/24','N/36','N/60',],[7,6,5,4,3,2,1])\n",
    "ld[\"No. of Lines Of Readable Text Short (Left)\"].fillna(7, inplace = True)\n",
    "ld[\"Spokes (Left)\"].fillna(0, inplace = True)"
   ]
  },
  {
   "cell_type": "code",
   "execution_count": 103,
   "metadata": {},
   "outputs": [],
   "source": [
    "X = ld.iloc[:, :].values\n",
    "from sklearn.compose import ColumnTransformer\n",
    "from sklearn.preprocessing import OneHotEncoder\n",
    "ct = ColumnTransformer(transformers=[('encoder', OneHotEncoder(), [8])], remainder='passthrough')\n",
    "X = np.array(ct.fit_transform(X))"
   ]
  },
  {
   "cell_type": "code",
   "execution_count": 104,
   "metadata": {},
   "outputs": [],
   "source": [
    "from sklearn.impute import SimpleImputer\n",
    "imputer = SimpleImputer(missing_values=np.nan, strategy='mean')\n",
    "imputer.fit(X[:, 9:10])\n",
    "X[:, 9:10] = imputer.transform(X[:, 9:10])"
   ]
  },
  {
   "cell_type": "code",
   "execution_count": 105,
   "metadata": {},
   "outputs": [],
   "source": [
    "column_values = [\"Colour_Vision_Left_Both\",\"Colour_Vision_Left_Green\",\"Colour_Vision_Left_Red\",\"Headache\",\"Near Reading Problem\",\"Far Reading Problem\",\"Watering in eyes\",\"Dizziness\",\"Eye Strain\",\"Age\",\"Gender\",\"Spokes_Left\",\"No_of_Lines_Of_Readable_Text_Distance_Left\",\"No_of_Lines_Of_Readable_Text_Short_Left\",\"Distance_Between_Eye_and_Normal_Reading_Sight\",\"Distance_Between_Eye_and_near_point\"]\n",
    "FLD = pd.DataFrame(data = X,    \n",
    "                  columns = column_values) \n",
    "FLD\n",
    "FLD = FLD.fillna(0)\n",
    "FLD.to_excel(r'FLD.xlsx')"
   ]
  },
  {
   "cell_type": "code",
   "execution_count": 106,
   "metadata": {},
   "outputs": [],
   "source": [
    "rd[\"Colour Vision(Right)?\"].fillna(\"Both\", inplace = True) \n",
    "rd=rd.replace(to_replace=['No','Yes','no', 'yes','Female','Male','female','male'], value=[0,1,0,1,1,0,1,0])\n",
    "# rd['No. of Lines Of Readable Text Distance(Right)'] = rd['No. of Lines Of Readable Text Distance(Right)'].replace(['6/60','6/36','6/24','6/18','6/12','6/9','6/6'],[1,2,3,4,5,6,7])\n",
    "rd[\"No. of Lines Of Readable Text Distance(Right)\"].fillna(7, inplace = True)\n",
    "# rd['No. of Lines Of Readable Text Short (Right)'] = rd['No. of Lines Of Readable Text Short (Right)'].replace(['N/6','N/9','N/12','N/18','N/24','N/36','N/60',],[7,6,5,4,3,2,1])\n",
    "rd[\"No. of Lines Of Readable Text Short (Right)\"].fillna(7, inplace = True)\n",
    "rd[\"Spokes (Right)\"].fillna(0, inplace = True)\n",
    "# rd[\"Right Eye Prescription Sph\"].fillna(0, inplace = True)\n",
    "# rd[\"Addition Right Eye\"].fillna(0, inplace = True)\n",
    "# rd[\"Right Eye Prescription Cyl\"].fillna(0, inplace = True)\n",
    "# rd[\"Right Eye Prescription Axis\"].fillna(0, inplace = True)\n",
    "# rd[\"Addition Right Eye\"] = pd.to_numeric(rd[\"Addition Right Eye\"], downcast=\"float\")\n",
    "# rd[\"Right Eye Prescription Sph\"] = pd.to_numeric(rd[\"Right Eye Prescription Sph\"], downcast=\"float\")\n",
    "# rd[\"Right Eye Prescription Cyl\"] = pd.to_numeric(rd[\"Right Eye Prescription Cyl\"], downcast=\"float\")\n",
    "# rd[\"Right Eye Prescription Axis\"] = pd.to_numeric(rd[\"Right Eye Prescription Axis\"], downcast=\"float\")"
   ]
  },
  {
   "cell_type": "code",
   "execution_count": 107,
   "metadata": {},
   "outputs": [],
   "source": [
    "Y = rd.iloc[:, :].values\n",
    "from sklearn.compose import ColumnTransformer\n",
    "from sklearn.preprocessing import OneHotEncoder\n",
    "ct = ColumnTransformer(transformers=[('encoder', OneHotEncoder(), [8])], remainder='passthrough')\n",
    "Y = np.array(ct.fit_transform(Y))"
   ]
  },
  {
   "cell_type": "code",
   "execution_count": 108,
   "metadata": {},
   "outputs": [],
   "source": [
    "from sklearn.impute import SimpleImputer\n",
    "imputer = SimpleImputer(missing_values=np.nan, strategy='mean')\n",
    "imputer.fit(Y[:, 9:10])\n",
    "Y[:, 9:10] = imputer.transform(Y[:, 9:10])"
   ]
  },
  {
   "cell_type": "code",
   "execution_count": 109,
   "metadata": {},
   "outputs": [],
   "source": [
    "column_values = [\"Colour_Vision_Right_Both\",\"Colour_Vision_Right_Green\",\"Colour_Vision_Right_Red\",\"Headache\",\"Near Reading Problem\",\"Far Reading Problem\",\"Watering in eyes\",\"Dizziness\",\"Eye Strain\",\"Age\",\"Gender\",\"Spokes_Right\",\"No_of_Lines_Of_Readable_Text_Distance_Right\",\"No_of_Lines_Of_Readable_Text_Short_Right\",\"Distance_Between_Eye_and_Normal_Reading_Sight\",\"Distance_Between_Eye_and_near_point\"]\n",
    "RLD = pd.DataFrame(data = Y,    \n",
    "                  columns = column_values) \n",
    "RLD\n",
    "RLD = RLD.fillna(0)\n",
    "RLD.to_excel(r'RLD.xlsx')"
   ]
  },
  {
   "cell_type": "code",
   "execution_count": 110,
   "metadata": {},
   "outputs": [],
   "source": [
    "from tensorflow import keras\n",
    "model_axis = keras.models.load_model('axis.h5')\n",
    "model_sph = keras.models.load_model('model_spherical_r.h5')\n",
    "model_cyl = keras.models.load_model('model_cyl_r.h5')\n",
    "model_add = keras.models.load_model('model_addition_r.h5')"
   ]
  },
  {
   "cell_type": "code",
   "execution_count": 111,
   "metadata": {},
   "outputs": [],
   "source": [
    "#AXIS PREDICTION"
   ]
  },
  {
   "cell_type": "code",
   "execution_count": 112,
   "metadata": {},
   "outputs": [
    {
     "name": "stdout",
     "output_type": "stream",
     "text": [
      "WARNING:tensorflow:6 out of the last 11 calls to <function Model.make_predict_function.<locals>.predict_function at 0x000001E9291BA620> triggered tf.function retracing. Tracing is expensive and the excessive number of tracings could be due to (1) creating @tf.function repeatedly in a loop, (2) passing tensors with different shapes, (3) passing Python objects instead of tensors. For (1), please define your @tf.function outside of the loop. For (2), @tf.function has experimental_relax_shapes=True option that relaxes argument shapes that can avoid unnecessary retracing. For (3), please refer to https://www.tensorflow.org/tutorials/customization/performance#python_or_tensor_args and https://www.tensorflow.org/api_docs/python/tf/function for  more details.\n"
     ]
    }
   ],
   "source": [
    "data=pd.read_excel(\"RLD.xlsx\",index=False)\n",
    "data.drop(\"Unnamed: 0\",axis=1)\n",
    "x = data.Spokes_Right\n",
    "pred = model_axis.predict(x)\n",
    "r_axis = pred[-1]\n",
    "r_axis=str(r_axis)"
   ]
  },
  {
   "cell_type": "code",
   "execution_count": 113,
   "metadata": {},
   "outputs": [],
   "source": [
    "data=pd.read_excel(\"FLD.xlsx\",index=False)\n",
    "data.drop(\"Unnamed: 0\",axis=1)\n",
    "x = data.Spokes_Left\n",
    "pred = model_axis.predict(x)\n",
    "l_axis = pred[-1]\n",
    "l_axis=str(l_axis)"
   ]
  },
  {
   "cell_type": "code",
   "execution_count": 114,
   "metadata": {},
   "outputs": [],
   "source": [
    "#SPHERICAL PREDICTION"
   ]
  },
  {
   "cell_type": "code",
   "execution_count": 115,
   "metadata": {},
   "outputs": [
    {
     "name": "stdout",
     "output_type": "stream",
     "text": [
      "WARNING:tensorflow:6 out of the last 11 calls to <function Model.make_predict_function.<locals>.predict_function at 0x000001E929254620> triggered tf.function retracing. Tracing is expensive and the excessive number of tracings could be due to (1) creating @tf.function repeatedly in a loop, (2) passing tensors with different shapes, (3) passing Python objects instead of tensors. For (1), please define your @tf.function outside of the loop. For (2), @tf.function has experimental_relax_shapes=True option that relaxes argument shapes that can avoid unnecessary retracing. For (3), please refer to https://www.tensorflow.org/tutorials/customization/performance#python_or_tensor_args and https://www.tensorflow.org/api_docs/python/tf/function for  more details.\n"
     ]
    }
   ],
   "source": [
    "data=pd.read_excel(\"FLD.xlsx\",index=False)\n",
    "data.drop(\"Unnamed: 0\",axis=1)\n",
    "x = data[['Colour_Vision_Left_Both','Colour_Vision_Left_Green','Colour_Vision_Left_Red','Headache','Near Reading Problem','Far Reading Problem','Watering in eyes','Dizziness','No_of_Lines_Of_Readable_Text_Distance_Left']]\n",
    "pred = model_sph.predict(x)\n",
    "l_sph = pred[-1]\n",
    "l_sph=str(l_sph)"
   ]
  },
  {
   "cell_type": "code",
   "execution_count": 116,
   "metadata": {},
   "outputs": [],
   "source": [
    "data=pd.read_excel(\"RLD.xlsx\",index=False)\n",
    "data.drop(\"Unnamed: 0\",axis=1)\n",
    "x = data[['Colour_Vision_Right_Both','Colour_Vision_Right_Green','Colour_Vision_Right_Red','Headache','Near Reading Problem','Far Reading Problem','Watering in eyes','Dizziness','No_of_Lines_Of_Readable_Text_Distance_Right']]\n",
    "pred = model_sph.predict(x)\n",
    "r_sph = pred[-1]\n",
    "r_sph=str(r_sph)"
   ]
  },
  {
   "cell_type": "code",
   "execution_count": 117,
   "metadata": {},
   "outputs": [],
   "source": [
    "#CYLENDERICAL PREDICTION"
   ]
  },
  {
   "cell_type": "code",
   "execution_count": 118,
   "metadata": {},
   "outputs": [
    {
     "name": "stdout",
     "output_type": "stream",
     "text": [
      "WARNING:tensorflow:6 out of the last 11 calls to <function Model.make_predict_function.<locals>.predict_function at 0x000001E9292361E0> triggered tf.function retracing. Tracing is expensive and the excessive number of tracings could be due to (1) creating @tf.function repeatedly in a loop, (2) passing tensors with different shapes, (3) passing Python objects instead of tensors. For (1), please define your @tf.function outside of the loop. For (2), @tf.function has experimental_relax_shapes=True option that relaxes argument shapes that can avoid unnecessary retracing. For (3), please refer to https://www.tensorflow.org/tutorials/customization/performance#python_or_tensor_args and https://www.tensorflow.org/api_docs/python/tf/function for  more details.\n"
     ]
    }
   ],
   "source": [
    "data=pd.read_excel(\"RLD.xlsx\",index=False)\n",
    "data.drop(\"Unnamed: 0\",axis=1)\n",
    "x = data[['Colour_Vision_Right_Both','Colour_Vision_Right_Green','Colour_Vision_Right_Red','Headache','Near Reading Problem','Far Reading Problem','Watering in eyes','Dizziness','No_of_Lines_Of_Readable_Text_Distance_Right']]\n",
    "pred = model_cyl.predict(x)\n",
    "r_cyl = pred[-1]\n",
    "r_cyl=str(r_cyl)"
   ]
  },
  {
   "cell_type": "code",
   "execution_count": 119,
   "metadata": {},
   "outputs": [],
   "source": [
    "data=pd.read_excel(\"FLD.xlsx\",index=False)\n",
    "data.drop(\"Unnamed: 0\",axis=1)\n",
    "x = data[['Colour_Vision_Left_Both','Colour_Vision_Left_Green','Colour_Vision_Left_Red','Headache','Near Reading Problem','Far Reading Problem','Watering in eyes','Dizziness','No_of_Lines_Of_Readable_Text_Distance_Left']]\n",
    "pred = model_cyl.predict(x)\n",
    "l_cyl = pred[-1]\n",
    "l_cyl=str(l_cyl)"
   ]
  },
  {
   "cell_type": "code",
   "execution_count": 120,
   "metadata": {},
   "outputs": [],
   "source": [
    "#ADDITION PREDICTION"
   ]
  },
  {
   "cell_type": "code",
   "execution_count": 121,
   "metadata": {},
   "outputs": [
    {
     "name": "stdout",
     "output_type": "stream",
     "text": [
      "WARNING:tensorflow:6 out of the last 11 calls to <function Model.make_predict_function.<locals>.predict_function at 0x000001E9292C4378> triggered tf.function retracing. Tracing is expensive and the excessive number of tracings could be due to (1) creating @tf.function repeatedly in a loop, (2) passing tensors with different shapes, (3) passing Python objects instead of tensors. For (1), please define your @tf.function outside of the loop. For (2), @tf.function has experimental_relax_shapes=True option that relaxes argument shapes that can avoid unnecessary retracing. For (3), please refer to https://www.tensorflow.org/tutorials/customization/performance#python_or_tensor_args and https://www.tensorflow.org/api_docs/python/tf/function for  more details.\n"
     ]
    }
   ],
   "source": [
    "data=pd.read_excel(\"RLD.xlsx\",index=False)\n",
    "data.drop(\"Unnamed: 0\",axis=1)\n",
    "x = data[['Colour_Vision_Right_Both','Colour_Vision_Right_Green','Colour_Vision_Right_Red','Headache','Near Reading Problem','Far Reading Problem','Watering in eyes','Dizziness','Eye Strain','Age','Gender','No_of_Lines_Of_Readable_Text_Short_Right']]\n",
    "pred = model_add.predict(x)\n",
    "r_add = pred[-1]\n",
    "r_add=str(r_add)"
   ]
  },
  {
   "cell_type": "code",
   "execution_count": 122,
   "metadata": {},
   "outputs": [],
   "source": [
    "data=pd.read_excel(\"FLD.xlsx\",index=False)\n",
    "data.drop(\"Unnamed: 0\",axis=1)\n",
    "x = data[['Colour_Vision_Left_Both','Colour_Vision_Left_Green','Colour_Vision_Left_Red','Headache','Near Reading Problem','Far Reading Problem','Watering in eyes','Dizziness','Eye Strain','Age','Gender','No_of_Lines_Of_Readable_Text_Short_Left']]\n",
    "pred = model_add.predict(x)\n",
    "l_add = pred[-1]\n",
    "l_add=str(l_add)"
   ]
  },
  {
   "cell_type": "code",
   "execution_count": 123,
   "metadata": {},
   "outputs": [],
   "source": [
    "#Print"
   ]
  },
  {
   "cell_type": "code",
   "execution_count": 124,
   "metadata": {},
   "outputs": [
    {
     "name": "stdout",
     "output_type": "stream",
     "text": [
      "====================================================Axis====================================================\n",
      "Right Eye Axis: [-0.87936115]\n",
      "Left Eye Axis: [-0.87936115]\n",
      "==================================================Spherical=================================================\n",
      "Right Eye Spherical: [0.49186492]\n",
      "Left Eye Spherical: [0.49186492]\n",
      "=================================================Cylendrical================================================\n",
      "Right Eye Cylendrical: [0.05768028]\n",
      "Left Eye Cylendrical: [0.05768028]\n",
      "===================================================Addition=================================================\n",
      "Right Eye Addition: [1.9666592]\n",
      "Left Eye Addition: [1.9666592]\n"
     ]
    }
   ],
   "source": [
    "print(\"====================================================Axis====================================================\")\n",
    "print('Right Eye Axis: ' + r_axis)\n",
    "print(\"Left Eye Axis: \" + l_axis)\n",
    "print(\"==================================================Spherical=================================================\")\n",
    "print(\"Right Eye Spherical: \" + r_sph)\n",
    "print(\"Left Eye Spherical: \" + l_sph)\n",
    "print(\"=================================================Cylendrical================================================\")\n",
    "print(\"Right Eye Cylendrical: \" + r_cyl)\n",
    "print(\"Left Eye Cylendrical: \" + l_cyl)\n",
    "print(\"===================================================Addition=================================================\")\n",
    "print(\"Right Eye Addition: \" + r_add)\n",
    "print(\"Left Eye Addition: \" + l_add)"
   ]
  },
  {
   "cell_type": "code",
   "execution_count": null,
   "metadata": {},
   "outputs": [],
   "source": []
  },
  {
   "cell_type": "code",
   "execution_count": 125,
   "metadata": {},
   "outputs": [],
   "source": [
    "#if axis if more than 10 your spherical number become your cylendrical nuymber also"
   ]
  },
  {
   "cell_type": "code",
   "execution_count": null,
   "metadata": {},
   "outputs": [],
   "source": [
    "note"
   ]
  }
 ],
 "metadata": {
  "kernelspec": {
   "display_name": "Python 3",
   "language": "python",
   "name": "python3"
  },
  "language_info": {
   "codemirror_mode": {
    "name": "ipython",
    "version": 3
   },
   "file_extension": ".py",
   "mimetype": "text/x-python",
   "name": "python",
   "nbconvert_exporter": "python",
   "pygments_lexer": "ipython3",
   "version": "3.6.8"
  }
 },
 "nbformat": 4,
 "nbformat_minor": 2
}
