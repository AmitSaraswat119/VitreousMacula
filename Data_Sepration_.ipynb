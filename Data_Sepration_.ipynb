{
 "cells": [
  {
   "cell_type": "code",
   "execution_count": 1,
   "metadata": {},
   "outputs": [],
   "source": [
    "import numpy as np\n",
    "import pandas as pd\n",
    "# import matplotlib as plt"
   ]
  },
  {
   "cell_type": "code",
   "execution_count": 2,
   "metadata": {},
   "outputs": [],
   "source": [
    "data=pd.read_excel(\"VITREOUS_MACULA.xlsx\",index=False)\n",
    "pd.set_option('display.max_rows', 500)\n",
    "pd.set_option('display.max_columns', 500)\n",
    "pd.set_option('display.width', 1000)"
   ]
  },
  {
   "cell_type": "code",
   "execution_count": 3,
   "metadata": {},
   "outputs": [],
   "source": [
    "data[\"Distance Between Eye and Normal Reading Sight?\"].fillna(20, inplace = True)\n",
    "data[\"Distance Between Eye and near point?\"].fillna(35, inplace=True)\n",
    "rd=data\n",
    "ld=data"
   ]
  },
  {
   "cell_type": "code",
   "execution_count": 4,
   "metadata": {},
   "outputs": [],
   "source": [
    "rd=rd.drop(['Timestamp','Occupation','Colour_Vision_Left','Spokes (Left)','No. of Lines Of Readable Text Distance(Left)','No. of Lines Of Readable Text Short (Left)','Left Eye Prescription Sph','Addition Left Eye','Left Eye Prescription Cyl','Left Eye Prescription Axis'],axis=1)"
   ]
  },
  {
   "cell_type": "code",
   "execution_count": 5,
   "metadata": {},
   "outputs": [],
   "source": [
    "rd.to_excel(r'right_eye.xlsx')"
   ]
  },
  {
   "cell_type": "code",
   "execution_count": 6,
   "metadata": {},
   "outputs": [],
   "source": [
    "ld=ld.drop(['Timestamp','Colour_Vision_Right','Spokes (Right)','No. of Lines Of Readable Text Distance(Right)','No. of Lines Of Readable Text Short (Right)','Right Eye Prescription Sph','Occupation','Addition Right Eye','Right Eye Prescription Cyl','Right Eye Prescription Axis'],axis=1)"
   ]
  },
  {
   "cell_type": "code",
   "execution_count": 7,
   "metadata": {},
   "outputs": [],
   "source": [
    "ld.to_excel(r'left_eye.xlsx')"
   ]
  },
  {
   "cell_type": "markdown",
   "metadata": {},
   "source": [
    "# Left Eye Side"
   ]
  },
  {
   "cell_type": "code",
   "execution_count": 8,
   "metadata": {
    "scrolled": true
   },
   "outputs": [],
   "source": [
    "ld[\"Colour_Vision_Left\"].fillna(\"Both\", inplace = True) \n",
    "ld=ld.replace(to_replace=['No','Yes','no', 'yes','Female','Male','female','male'], value=[0,1,0,1,1,0,1,0])"
   ]
  },
  {
   "cell_type": "code",
   "execution_count": 9,
   "metadata": {},
   "outputs": [],
   "source": [
    "ld['No. of Lines Of Readable Text Distance(Left)'] = ld['No. of Lines Of Readable Text Distance(Left)'].replace(['6/60','6/36','6/24','6/18','6/12','6/9','6/6'],[1,2,3,4,5,6,7])\n",
    "ld[\"No. of Lines Of Readable Text Distance(Left)\"].fillna(7, inplace = True)\n",
    "ld['No. of Lines Of Readable Text Short (Left)'] = ld['No. of Lines Of Readable Text Short (Left)'].replace(['N/6','N/9','N/12','N/18','N/24','N/36','N/60',],[7,6,5,4,3,2,1])\n",
    "ld[\"No. of Lines Of Readable Text Short (Left)\"].fillna(7, inplace = True)\n",
    "ld[\"Spokes (Left)\"].fillna(0, inplace = True)"
   ]
  },
  {
   "cell_type": "code",
   "execution_count": 10,
   "metadata": {},
   "outputs": [],
   "source": [
    "ld[\"Left Eye Prescription Sph\"].fillna(0, inplace = True)\n",
    "ld[\"Addition Left Eye\"].fillna(0, inplace = True)\n",
    "ld[\"Left Eye Prescription Cyl\"].fillna(0, inplace = True)\n",
    "ld[\"Left Eye Prescription Axis\"].fillna(0, inplace = True)\n",
    "ld[\"Addition Left Eye\"] = pd.to_numeric(ld[\"Addition Left Eye\"], downcast=\"float\")\n",
    "ld[\"Left Eye Prescription Sph\"] = pd.to_numeric(ld[\"Left Eye Prescription Sph\"], downcast=\"float\")\n",
    "ld[\"Left Eye Prescription Cyl\"] = pd.to_numeric(ld[\"Left Eye Prescription Cyl\"], downcast=\"float\")\n",
    "ld[\"Left Eye Prescription Axis\"] = pd.to_numeric(ld[\"Left Eye Prescription Axis\"], downcast=\"float\")\n",
    "\n"
   ]
  },
  {
   "cell_type": "code",
   "execution_count": 11,
   "metadata": {},
   "outputs": [
    {
     "data": {
      "text/plain": [
       "array([0.0, 1.0, 0.0, 1, 1, 1, 1, 1, 1, 45.0, 1, 0.0, 6.0, 6.0, 20.0,\n",
       "       33.0, 0.5, 1.5, 0.0, 0.0], dtype=object)"
      ]
     },
     "execution_count": 11,
     "metadata": {},
     "output_type": "execute_result"
    }
   ],
   "source": [
    "X = ld.iloc[:, :].values\n",
    "\n",
    "\n",
    "from sklearn.compose import ColumnTransformer\n",
    "from sklearn.preprocessing import OneHotEncoder\n",
    "ct = ColumnTransformer(transformers=[('encoder', OneHotEncoder(), [8])], remainder='passthrough')\n",
    "X = np.array(ct.fit_transform(X))\n",
    "X[2]"
   ]
  },
  {
   "cell_type": "code",
   "execution_count": 12,
   "metadata": {},
   "outputs": [],
   "source": [
    "from sklearn.impute import SimpleImputer\n",
    "imputer = SimpleImputer(missing_values=np.nan, strategy='mean')\n",
    "imputer.fit(X[:, 9:10])\n",
    "X[:, 9:10] = imputer.transform(X[:, 9:10])"
   ]
  },
  {
   "cell_type": "code",
   "execution_count": 13,
   "metadata": {},
   "outputs": [],
   "source": [
    "column_values = [\"Colour_Vision_Left_Both\",\"Colour_Vision_Left_Green\",\"Colour_Vision_Left_Red\",\"Headache\",\"Near Reading Problem\",\"Far Reading Problem\",\"Watering in eyes\",\"Dizziness\",\"Eye Strain\",\"Age\",\"Gender\",\"Spokes_Left\",\"No_of_Lines_Of_Readable_Text_Distance_Left\",\"No_of_Lines_Of_Readable_Text_Short_Left\",\"Distance_Between_Eye_and_Normal_Reading_Sight\",\"Distance_Between_Eye_and_near_point\",\"Left_Eye_Prescription_Sph\",\"Addition_Left_Eye\",\"Left_Eye_Prescription_Cyl\",\"Left_Eye_Prescription_Axis\"]\n",
    "FLD = pd.DataFrame(data = X,    \n",
    "                  columns = column_values) "
   ]
  },
  {
   "cell_type": "code",
   "execution_count": 14,
   "metadata": {},
   "outputs": [],
   "source": [
    "FLD = FLD.fillna(0)"
   ]
  },
  {
   "cell_type": "code",
   "execution_count": 15,
   "metadata": {},
   "outputs": [],
   "source": [
    "FLD.to_excel(r'FLD.xlsx')"
   ]
  },
  {
   "cell_type": "code",
   "execution_count": 16,
   "metadata": {},
   "outputs": [],
   "source": [
    "rd[\"Colour_Vision_Right\"].fillna(\"Both\", inplace = True) \n",
    "rd=rd.replace(to_replace=['No','Yes','no', 'yes','Female','Male','female','male'], value=[0,1,0,1,1,0,1,0])\n",
    "rd['No. of Lines Of Readable Text Distance(Right)'] = rd['No. of Lines Of Readable Text Distance(Right)'].replace(['6/60','6/36','6/24','6/18','6/12','6/9','6/6'],[1,2,3,4,5,6,7])\n",
    "rd[\"No. of Lines Of Readable Text Distance(Right)\"].fillna(7, inplace = True)\n",
    "rd['No. of Lines Of Readable Text Short (Right)'] = rd['No. of Lines Of Readable Text Short (Right)'].replace(['N/6','N/9','N/12','N/18','N/24','N/36','N/60',],[7,6,5,4,3,2,1])\n",
    "rd[\"No. of Lines Of Readable Text Short (Right)\"].fillna(7, inplace = True)\n",
    "rd[\"Spokes (Right)\"].fillna(0, inplace = True)\n",
    "rd[\"Right Eye Prescription Sph\"].fillna(0, inplace = True)\n",
    "rd[\"Addition Right Eye\"].fillna(0, inplace = True)\n",
    "rd[\"Right Eye Prescription Cyl\"].fillna(0, inplace = True)\n",
    "rd[\"Right Eye Prescription Axis\"].fillna(0, inplace = True)\n",
    "rd[\"Addition Right Eye\"] = pd.to_numeric(rd[\"Addition Right Eye\"], downcast=\"float\")\n",
    "rd[\"Right Eye Prescription Sph\"] = pd.to_numeric(rd[\"Right Eye Prescription Sph\"], downcast=\"float\")\n",
    "rd[\"Right Eye Prescription Cyl\"] = pd.to_numeric(rd[\"Right Eye Prescription Cyl\"], downcast=\"float\")\n",
    "rd[\"Right Eye Prescription Axis\"] = pd.to_numeric(rd[\"Right Eye Prescription Axis\"], downcast=\"float\")"
   ]
  },
  {
   "cell_type": "code",
   "execution_count": 17,
   "metadata": {},
   "outputs": [],
   "source": [
    "Y = rd.iloc[:, :].values\n",
    "\n",
    "from sklearn.compose import ColumnTransformer\n",
    "from sklearn.preprocessing import OneHotEncoder\n",
    "ct = ColumnTransformer(transformers=[('encoder', OneHotEncoder(), [8])], remainder='passthrough')\n",
    "Y = np.array(ct.fit_transform(Y))"
   ]
  },
  {
   "cell_type": "code",
   "execution_count": 18,
   "metadata": {},
   "outputs": [],
   "source": [
    "from sklearn.impute import SimpleImputer\n",
    "imputer = SimpleImputer(missing_values=np.nan, strategy='mean')\n",
    "imputer.fit(Y[:, 9:10])\n",
    "Y[:, 9:10] = imputer.transform(Y[:, 9:10])"
   ]
  },
  {
   "cell_type": "code",
   "execution_count": 19,
   "metadata": {},
   "outputs": [],
   "source": [
    "column_values = [\"Colour_Vision_Right_Both\",\"Colour_Vision_Right_Green\",\"Colour_Vision_Right_Red\",\"Headache\",\"Near Reading Problem\",\"Far Reading Problem\",\"Watering in eyes\",\"Dizziness\",\"Eye Strain\",\"Age\",\"Gender\",\"Spokes_Right\",\"No_of_Lines_Of_Readable_Text_Distance_Right\",\"No_of_Lines_Of_Readable_Text_Short_Right\",\"Distance_Between_Eye_and_Normal_Reading_Sight\",\"Distance_Between_Eye_and_near_point\",\"Right_Eye_Prescription_Sph\",\"Addition_Right_Eye\",\"Right_Eye_Prescription_Cyl\",\"Right_Eye_Prescription_Axis\"]\n",
    "RLD = pd.DataFrame(data = Y,    \n",
    "                  columns = column_values) "
   ]
  },
  {
   "cell_type": "code",
   "execution_count": 20,
   "metadata": {},
   "outputs": [],
   "source": [
    "RLD = RLD.fillna(0)"
   ]
  },
  {
   "cell_type": "code",
   "execution_count": 21,
   "metadata": {},
   "outputs": [],
   "source": [
    "RLD.to_excel(r'RLD.xlsx')"
   ]
  },
  {
   "cell_type": "code",
   "execution_count": null,
   "metadata": {},
   "outputs": [],
   "source": []
  }
 ],
 "metadata": {
  "kernelspec": {
   "display_name": "Python 3",
   "language": "python",
   "name": "python3"
  },
  "language_info": {
   "codemirror_mode": {
    "name": "ipython",
    "version": 3
   },
   "file_extension": ".py",
   "mimetype": "text/x-python",
   "name": "python",
   "nbconvert_exporter": "python",
   "pygments_lexer": "ipython3",
   "version": "3.6.8"
  }
 },
 "nbformat": 4,
 "nbformat_minor": 2
}
